{
 "cells": [
  {
   "cell_type": "code",
   "execution_count": 1,
   "id": "bea53c3f",
   "metadata": {
    "scrolled": true
   },
   "outputs": [
    {
     "name": "stdout",
     "output_type": "stream",
     "text": [
      "cp original.txt copyfile.txt\n"
     ]
    }
   ],
   "source": [
    "# 실습문제 6번\n",
    "\n",
    "def copy_file(file1, file2):\n",
    "    f1 = open(file1, 'r')\n",
    "    f2 = open(file2, 'w')\n",
    "    while 1:\n",
    "        line = f1.readline()\n",
    "        if not line: break\n",
    "        f2.write(line)\n",
    "    f1.close()\n",
    "    f2.close()\n",
    "userinput = input()\n",
    "li = userinput.split()\n",
    "if len(li) == 3:\n",
    "    if li[0] == \"cp\":\n",
    "        copy_file(li[1], li[2])\n",
    "    "
   ]
  },
  {
   "cell_type": "code",
   "execution_count": 2,
   "id": "c73b2ab1",
   "metadata": {},
   "outputs": [
    {
     "name": "stdout",
     "output_type": "stream",
     "text": [
      "wc original.txt\n",
      "# of lines : 7\n",
      "# of words : 12\n"
     ]
    }
   ],
   "source": [
    "# 실습문제 7번\n",
    "\n",
    "def ws_count(file):\n",
    "    lineCount = 0\n",
    "    wordCount = 0\n",
    "    f = open(file, 'r')\n",
    "    while 1:\n",
    "        line = f.readline()\n",
    "        if not line: break\n",
    "        lineCount += 1\n",
    "        wordCount += len(line.split())\n",
    "    f.close()\n",
    "    print(\"# of lines :\", lineCount)\n",
    "    print(\"# of words :\", wordCount)\n",
    "userinput = input()\n",
    "li = userinput.split()\n",
    "if len(li) == 2:\n",
    "    if li[0] == \"wc\":\n",
    "        ws_count(li[1])"
   ]
  },
  {
   "cell_type": "code",
   "execution_count": 3,
   "id": "fbc8eb79",
   "metadata": {},
   "outputs": [
    {
     "name": "stdout",
     "output_type": "stream",
     "text": [
      "1 + 2 = 3 입니다.\n",
      "5 - 1 = 4 입니다.\n",
      "2 * 3 = 6 입니다.\n",
      "6 / 2 = 3 입니다.\n"
     ]
    }
   ],
   "source": [
    "# 실습문제 8번 (클래스 파일은 따로 class_ex.py로 생성함)\n",
    "\n",
    "import class_ex\n",
    "calc = class_ex.Calc()\n",
    "calc.sum(1, 2)\n",
    "calc.sub(5, 1)\n",
    "calc.multi(2, 3)\n",
    "calc.divi(6, 2)"
   ]
  },
  {
   "cell_type": "code",
   "execution_count": 4,
   "id": "d443021f",
   "metadata": {},
   "outputs": [
    {
     "name": "stdout",
     "output_type": "stream",
     "text": [
      "계산식 입력: 1 + 2 - 3 * 4 + 5\n"
     ]
    },
    {
     "ename": "NameError",
     "evalue": "name 'Stack' is not defined",
     "output_type": "error",
     "traceback": [
      "\u001b[0;31m---------------------------------------------------------------------------\u001b[0m",
      "\u001b[0;31mNameError\u001b[0m                                 Traceback (most recent call last)",
      "\u001b[0;32m<ipython-input-4-79afb3a30bcd>\u001b[0m in \u001b[0;36m<module>\u001b[0;34m\u001b[0m\n\u001b[1;32m     20\u001b[0m \u001b[0mcal_str\u001b[0m \u001b[0;34m=\u001b[0m \u001b[0minput\u001b[0m\u001b[0;34m(\u001b[0m\u001b[0;34m\"계산식 입력: \"\u001b[0m\u001b[0;34m)\u001b[0m\u001b[0;34m\u001b[0m\u001b[0;34m\u001b[0m\u001b[0m\n\u001b[1;32m     21\u001b[0m \u001b[0mli\u001b[0m \u001b[0;34m=\u001b[0m \u001b[0mcal_str\u001b[0m\u001b[0;34m.\u001b[0m\u001b[0msplit\u001b[0m\u001b[0;34m(\u001b[0m\u001b[0;34m)\u001b[0m\u001b[0;34m\u001b[0m\u001b[0;34m\u001b[0m\u001b[0m\n\u001b[0;32m---> 22\u001b[0;31m \u001b[0mnum\u001b[0m \u001b[0;34m=\u001b[0m \u001b[0mStack\u001b[0m\u001b[0;34m(\u001b[0m\u001b[0;34m)\u001b[0m\u001b[0;34m\u001b[0m\u001b[0;34m\u001b[0m\u001b[0m\n\u001b[0m\u001b[1;32m     23\u001b[0m \u001b[0mop\u001b[0m \u001b[0;34m=\u001b[0m \u001b[0mStack\u001b[0m\u001b[0;34m(\u001b[0m\u001b[0;34m)\u001b[0m\u001b[0;34m\u001b[0m\u001b[0;34m\u001b[0m\u001b[0m\n\u001b[1;32m     24\u001b[0m \u001b[0;34m\u001b[0m\u001b[0m\n",
      "\u001b[0;31mNameError\u001b[0m: name 'Stack' is not defined"
     ]
    }
   ],
   "source": [
    "# 실습문제 9번\n",
    "\n",
    "import stack_ex\n",
    "\n",
    "def cal(num2, num1, op):\n",
    "    n1 = int(num1)          # stack이라 LIFO 이므로 뺄셈이나 나눗셈 시 앞 문자와 뒤 문자가 바뀌어야 함\n",
    "    n2 = int(num2)\n",
    "    if op == \"+\":\n",
    "        return repr(n1 + n2)    # jupyter notebook에서 str(~~) 사용 시 오류 발생... 기본 python idle에서는 오류 미발생 ㅠㅠ\n",
    "    elif op == \"-\":\n",
    "        return repr(n1 - n2)\n",
    "    elif op == \"*\":\n",
    "        return repr(n1 * n2)\n",
    "    elif op == \"/\":\n",
    "        return repr(n1 // n2)   # 정수 몫 구하기\n",
    "    else:\n",
    "        print(\"error!\")\n",
    "        return \"0\"\n",
    "    \n",
    "cal_str = input(\"계산식 입력: \")\n",
    "li = cal_str.split()\n",
    "num = stack_ex.Stack()\n",
    "op = stack_ex.Stack()\n",
    "\n",
    "print(\"계산식 출력: \", end=\"\")\n",
    "if len(li) == 1:\n",
    "    print(li[0], end=\"\")\n",
    "    result = li[0]\n",
    "else:\n",
    "    for i in li:\n",
    "        print(i, end=\"\")\n",
    "        if i.isdigit():\n",
    "            num.push(i)\n",
    "        else:\n",
    "            if num.length() >= 2:\n",
    "                if op.top() == \"*\" or op.top() == \"/\":\n",
    "                    num.push(cal(num.pop(), num.pop(), op.pop()))\n",
    "                if i != \"*\" and i != \"/\":\n",
    "                    temp = op.top()\n",
    "                    num.push(cal(num.pop(), num.pop(), op.pop()))\n",
    "                    op.push(i)\n",
    "                    \n",
    "                else:\n",
    "                    op.push(i)\n",
    "            else:\n",
    "                op.push(i)\n",
    "    while (num.length() != 0):\n",
    "        num.push(cal(num.pop(), num.pop(), op.pop()))\n",
    "        if (num.length() == 1):\n",
    "            result = num.pop()\n",
    "print(\" =\", result)\n",
    "    "
   ]
  },
  {
   "cell_type": "code",
   "execution_count": null,
   "id": "8729a850",
   "metadata": {},
   "outputs": [],
   "source": []
  }
 ],
 "metadata": {
  "kernelspec": {
   "display_name": "Python 3",
   "language": "python",
   "name": "python3"
  },
  "language_info": {
   "codemirror_mode": {
    "name": "ipython",
    "version": 3
   },
   "file_extension": ".py",
   "mimetype": "text/x-python",
   "name": "python",
   "nbconvert_exporter": "python",
   "pygments_lexer": "ipython3",
   "version": "3.9.4"
  }
 },
 "nbformat": 4,
 "nbformat_minor": 5
}
