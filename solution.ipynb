{
 "cells": [
  {
   "cell_type": "code",
   "execution_count": 11,
   "id": "c316be89",
   "metadata": {},
   "outputs": [
    {
     "name": "stdout",
     "output_type": "stream",
     "text": [
      "(1,2)\n",
      "(3,4)\n",
      "(4,6)\n"
     ]
    }
   ],
   "source": [
    "# 문제 1번\n",
    "\n",
    "class Point():\n",
    "    def __init__(self, x, y):\n",
    "        self.x = x\n",
    "        self.y = y\n",
    "    def show(self):\n",
    "        print(\"({0:d},{1:d})\".format(self.x, self.y))\n",
    "    def __add__(self, other):\n",
    "        self.x = self.x + other.x\n",
    "        self.y = self.y + other.y\n",
    "        return Point(self.x, self.y)\n",
    "    \n",
    "a = Point(1, 2)\n",
    "a.show()\n",
    "\n",
    "b = Point(3, 4)\n",
    "b.show()\n",
    "\n",
    "a = a + b\n",
    "a.show()\n"
   ]
  },
  {
   "cell_type": "code",
   "execution_count": 31,
   "id": "10a1ce6b",
   "metadata": {},
   "outputs": [
    {
     "name": "stdout",
     "output_type": "stream",
     "text": [
      "Max Week = 5/8 ~ 5/14\n"
     ]
    }
   ],
   "source": [
    "# 문제 2번\n",
    "\n",
    "import csv\n",
    "f = open('seoul.csv', encoding='cp949')\n",
    "data = csv.reader(f)\n",
    "header = next(data)\n",
    "\n",
    "sum = []\n",
    "day = 0\n",
    "for row in data:\n",
    "    day += 1\n",
    "    if day % 7 == 1:\n",
    "        sum.append(float(row[4]) - float(row[3]))\n",
    "    else:\n",
    "        sum[-1] += float(row[4]) - float(row[3])\n",
    "\n",
    "num = 0\n",
    "max = 0\n",
    "for i in range(len(sum)):\n",
    "    if sum[i] > max:\n",
    "        num = i\n",
    "        max = sum[i]\n",
    "    \n",
    "day_from = num * 7 + 1\n",
    "if (num + 1) * 7 > 31:\n",
    "    day_to = 31\n",
    "else:\n",
    "    day_to = (num + 1) * 7\n",
    "\n",
    "print(\"Max Week = 5/{0:d} ~ 5/{1:d}\".format(day_from, day_to))\n",
    "    "
   ]
  },
  {
   "cell_type": "code",
   "execution_count": 56,
   "id": "09fa5227",
   "metadata": {},
   "outputs": [
    {
     "name": "stdout",
     "output_type": "stream",
     "text": [
      "[3.6, 5.4, 4.5]\n"
     ]
    },
    {
     "data": {
      "image/png": "[encoded data removed]",
      "text/plain": [
       "<Figure size 432x288 with 1 Axes>"
      ]
     },
     "metadata": {
      "needs_background": "light"
     },
     "output_type": "display_data"
    }
   ],
   "source": [
    "# 문제 3번\n",
    "\n",
    "# 각 element 곱해서 다 더하면 외적?\n",
    "\n",
    "import numpy as np\n",
    "import matplotlib.pyplot as plt\n",
    "\n",
    "Docs = np.array([[1, 1, 0, 1, 0, 1], [1, 1, 1, 0, 1, 0], [1, 1, 0, 1, 0, 0]])\n",
    "Query = np.array([1, 1, 0, 0, 1, 0])\n",
    "Docs_size = np.ones(len(Docs))\n",
    "Query_size = 1\n",
    "for i in range(len(Docs)):\n",
    "    for j in range(len(Docs[i])):\n",
    "        Docs_size[i] += Docs[i][j] * Docs[i][j]\n",
    "    Docs_size[i] /= len(Docs[i])\n",
    "\n",
    "for i in range(len(Query)):\n",
    "    Query_size += Query[i] * Query[i]\n",
    "Query_size /= len(Query)\n",
    "    \n",
    "\n",
    "\n",
    "cos_temp = np.dot(Docs, Query.T)\n",
    "cos = []\n",
    "for i in range(len(cos_temp)):\n",
    "    cos.append(round(float(cos_temp[i]) / (Query_size * Docs_size[i]),2))\n",
    "\n",
    "print(cos)\n",
    "    \n",
    "plt.bar([\"doc1={0:f}\".format(cos[0]), \"doc2={0:f}\".format(cos[1]), \"doc3={0:f}\".format(cos[2])], cos)\n",
    "plt.show()\n"
   ]
  },
  {
   "cell_type": "code",
   "execution_count": null,
   "id": "dcd9fc9e",
   "metadata": {},
   "outputs": [],
   "source": []
  }
 ],
 "metadata": {
  "kernelspec": {
   "display_name": "Python 3",
   "language": "python",
   "name": "python3"
  },
  "language_info": {
   "codemirror_mode": {
    "name": "ipython",
    "version": 3
   },
   "file_extension": ".py",
   "mimetype": "text/x-python",
   "name": "python",
   "nbconvert_exporter": "python",
   "pygments_lexer": "ipython3",
   "version": "3.9.4"
  }
 },
 "nbformat": 4,
 "nbformat_minor": 5
}
