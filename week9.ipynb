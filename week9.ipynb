{
 "cells": [
  {
   "cell_type": "code",
   "execution_count": 9,
   "id": "5a1dad81",
   "metadata": {},
   "outputs": [
    {
     "name": "stdout",
     "output_type": "stream",
     "text": [
      "x값을 입력하세요 : 3\n",
      "y는 45 입니다.\n"
     ]
    }
   ],
   "source": [
    "# 실습문제 1번\n",
    "\n",
    "x = int(input(\"x값을 입력하세요 : \"))\n",
    "y = 3*x*x + 5*x + 3\n",
    "print(\"y는\", y, \"입니다.\")"
   ]
  },
  {
   "cell_type": "code",
   "execution_count": 12,
   "id": "7817d17c",
   "metadata": {},
   "outputs": [
    {
     "name": "stdout",
     "output_type": "stream",
     "text": [
      "원의 반지름을 입력하세요 : 99\n",
      "원의 둘레 : 621.72 , 원의 넓이 : 30775.14\n"
     ]
    }
   ],
   "source": [
    "# 실습문제 2번\n",
    "\n",
    "import decimal\n",
    "\n",
    "pi = decimal.Decimal('3.14')    #부동소수점 오차 방지\n",
    "r = int(input(\"원의 반지름을 입력하세요 : \"))\n",
    "cir = 2 * pi * r\n",
    "area = pi * r * r\n",
    "print(\"원의 둘레 :\", cir, \", 원의 넓이 :\", area)"
   ]
  }
 ],
 "metadata": {
  "kernelspec": {
   "display_name": "Python 3",
   "language": "python",
   "name": "python3"
  },
  "language_info": {
   "codemirror_mode": {
    "name": "ipython",
    "version": 3
   },
   "file_extension": ".py",
   "mimetype": "text/x-python",
   "name": "python",
   "nbconvert_exporter": "python",
   "pygments_lexer": "ipython3",
   "version": "3.9.4"
  }
 },
 "nbformat": 4,
 "nbformat_minor": 5
}
