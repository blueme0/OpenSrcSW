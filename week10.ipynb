{
 "cells": [
  {
   "cell_type": "code",
   "execution_count": 2,
   "id": "29874ca0",
   "metadata": {},
   "outputs": [
    {
     "name": "stdout",
     "output_type": "stream",
     "text": [
      "Numbers? 10 456 87 78\n",
      "Max = 456\n"
     ]
    }
   ],
   "source": [
    "# 실습문제 2번\n",
    "\n",
    "str = input(\"Numbers? \")\n",
    "li = str.split()\n",
    "num = []\n",
    "for i in li:\n",
    "    num.append(int(i))\n",
    "print(\"Max =\", max(num))"
   ]
  },
  {
   "cell_type": "code",
   "execution_count": 21,
   "id": "38613422",
   "metadata": {},
   "outputs": [
    {
     "name": "stdout",
     "output_type": "stream",
     "text": [
      "step 1) input string: abc def\n",
      "efg bcd \n",
      "step 2) input string: efg bcd\n",
      "abc def "
     ]
    }
   ],
   "source": [
    "# 실습문제 3번\n",
    "\n",
    "str = input(\"step 1) input string: \").split(\" \")\n",
    "for i in range(len(str), 0, -1):\n",
    "    for j in str[i-1]:\n",
    "        print(chr(ord(j) + 1), end=\"\")\n",
    "    print(\" \", end=\"\")\n",
    "str2 = input(\"\\nstep 2) input string: \").split(\" \")\n",
    "for i in range(len(str2), 0, -1):\n",
    "    for j in str2[i-1]:\n",
    "        print(chr(ord(j) - 1), end=\"\")\n",
    "    print(\" \", end=\"\")"
   ]
  },
  {
   "cell_type": "code",
   "execution_count": 34,
   "id": "03cdef6c",
   "metadata": {},
   "outputs": [
    {
     "name": "stdout",
     "output_type": "stream",
     "text": [
      "input 10 people's name and telnum\n",
      "1 ) aaa 123\n",
      "2 ) bbb 234\n",
      "3 ) ccc 345\n",
      "4 ) ddd 456\n",
      "5 ) eee 567\n",
      "6 ) fff 678\n",
      "7 ) ggg 789\n",
      "8 ) hhh 890\n",
      "9 ) iii 901\n",
      "10 ) jjj 012\n",
      "\n",
      "menu\n",
      "search by 1) name 2) telnum or 3) quit : 1\n",
      "name : eee\n",
      "telnum : 567\n",
      "search by 1) name 2) telnum or 3) quit : 1\n",
      "name : jjj\n",
      "telnum : 012\n",
      "search by 1) name 2) telnum or 3) quit : 1\n",
      "name : abc\n",
      "abc doesn't exist!\n",
      "search by 1) name 2) telnum or 3) quit : 2\n",
      "telnum : 234\n",
      "name : bbb\n",
      "search by 1) name 2) telnum or 3) quit : 2\n",
      "telnum : 901\n",
      "name : iii\n",
      "search by 1) name 2) telnum or 3) quit : 2\n",
      "telnum : 123\n",
      "name : aaa\n",
      "search by 1) name 2) telnum or 3) quit : 2\n",
      "telnum : 111\n",
      "111 doesn't exist!\n",
      "search by 1) name 2) telnum or 3) quit : a\n",
      "wrong menu num!\n",
      "search by 1) name 2) telnum or 3) quit : 0\n",
      "wrong menu num!\n",
      "search by 1) name 2) telnum or 3) quit : 3\n",
      "close ...\n"
     ]
    }
   ],
   "source": [
    "# 실습문제 4번\n",
    "\n",
    "print(\"input 10 people's name and telnum\")\n",
    "tel1 = {}\n",
    "tel2 = {}\n",
    "for i in range(10):\n",
    "    print(i + 1, \") \", end=\"\")\n",
    "    str = input().split(\" \")\n",
    "    tel1[str[0]] = str[1]\n",
    "    tel2[str[1]] = str[0]\n",
    "print(\"\\nmenu\")\n",
    "while 1:\n",
    "    menu = input(\"search by 1) name 2) telnum or 3) quit : \")\n",
    "    if (menu == \"1\"):\n",
    "        temp = input(\"name : \")\n",
    "        if temp in tel1:\n",
    "            print(\"telnum :\", tel1[temp])\n",
    "        else:\n",
    "            print(temp, \"doesn't exist!\")\n",
    "    elif (menu == \"2\"):\n",
    "        temp = input(\"telnum : \")\n",
    "        if temp in tel2:\n",
    "            print(\"name :\", tel2[temp])\n",
    "        else:\n",
    "            print(temp, \"doesn't exist!\")\n",
    "    elif (menu == \"3\"):\n",
    "        print(\"close ...\")\n",
    "        break;\n",
    "    else:\n",
    "        print(\"wrong menu num!\")\n",
    "    "
   ]
  }
 ],
 "metadata": {
  "kernelspec": {
   "display_name": "Python 3",
   "language": "python",
   "name": "python3"
  },
  "language_info": {
   "codemirror_mode": {
    "name": "ipython",
    "version": 3
   },
   "file_extension": ".py",
   "mimetype": "text/x-python",
   "name": "python",
   "nbconvert_exporter": "python",
   "pygments_lexer": "ipython3",
   "version": "3.9.4"
  }
 },
 "nbformat": 4,
 "nbformat_minor": 5
}
